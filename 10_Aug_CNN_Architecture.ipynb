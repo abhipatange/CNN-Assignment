{
 "cells": [
  {
   "cell_type": "markdown",
   "id": "5de01463-abec-4716-b250-eb2709f34514",
   "metadata": {},
   "source": [
    "TOPIC: Understanding Pooling and Padding in CNN"
   ]
  },
  {
   "cell_type": "code",
   "execution_count": null,
   "id": "2a0c301b-09cd-4408-b2c5-6cc05c946961",
   "metadata": {},
   "outputs": [],
   "source": [
    "1.Desccire the purpose and benefits of pooling in CNN."
   ]
  },
  {
   "cell_type": "code",
   "execution_count": null,
   "id": "4794e132-b489-40f4-ac8b-367f0f547751",
   "metadata": {},
   "outputs": [],
   "source": [
    "ANS = \n",
    "      Pooling in convolutional neural networks (CNNs) is a fundamental technique used to reduce the spatial \n",
    "       dimensions of feature maps while retaining important information from the input image. \n",
    "        In general, we use pooling layers when we want to detect an object in an image, regardless of its location within the image. "
   ]
  },
  {
   "cell_type": "code",
   "execution_count": null,
   "id": "e0d4e380-997f-4035-9d08-c2c345a18798",
   "metadata": {},
   "outputs": [],
   "source": []
  },
  {
   "cell_type": "code",
   "execution_count": null,
   "id": "9800872b-73a1-4f71-8511-3afe07e34260",
   "metadata": {},
   "outputs": [],
   "source": [
    "2.Describe the difference between min pooling in CNN."
   ]
  },
  {
   "cell_type": "code",
   "execution_count": null,
   "id": "c73c7aa7-befb-4ff8-86b5-f35d7142bfd6",
   "metadata": {},
   "outputs": [],
   "source": [
    "ANS = \n",
    "    Max Pooling: In this type of pooling, the maximum value of each kernel in each\n",
    "    depth slice is captured and passed on to the next layer. \n",
    "    Min Pooling: In this type, the minimum value of each kernel in each\n",
    "    depth slice is captured and passed on to the next layer."
   ]
  },
  {
   "cell_type": "code",
   "execution_count": null,
   "id": "799b695e-005c-4ea5-a61c-ccaf6eff599f",
   "metadata": {},
   "outputs": [],
   "source": []
  },
  {
   "cell_type": "code",
   "execution_count": null,
   "id": "c1d05936-dc4b-4395-b195-bf3fbec9fc1f",
   "metadata": {},
   "outputs": [],
   "source": []
  },
  {
   "cell_type": "code",
   "execution_count": null,
   "id": "47123765-0d58-4bd9-affe-856fc11f4208",
   "metadata": {},
   "outputs": [],
   "source": [
    "3.Discuss the concept of padding in CNN and its significance."
   ]
  },
  {
   "cell_type": "code",
   "execution_count": null,
   "id": "e24cad5d-41a2-4c77-9eb3-abe8fe90c051",
   "metadata": {},
   "outputs": [],
   "source": [
    "ANS =\n",
    "     In CNNs, padding refers to the process of adding extra pixels to the input image before applying convolution.\n",
    "    Acting as a protective boundary around the image, these additional pixels allow the network \n",
    "    to retain more spatial information.\n",
    "    This is the main use of padding in CNN."
   ]
  },
  {
   "cell_type": "code",
   "execution_count": null,
   "id": "bda1416f-fd85-4af1-9802-9bcf50827637",
   "metadata": {},
   "outputs": [],
   "source": []
  },
  {
   "cell_type": "code",
   "execution_count": null,
   "id": "cc8a3acc-56b9-45a1-ad32-799c7fc3c1b1",
   "metadata": {},
   "outputs": [],
   "source": [
    "4.Compare and contract zero-padding and valid-padding in terms of their effects on the output feacture map size."
   ]
  },
  {
   "cell_type": "code",
   "execution_count": null,
   "id": "fb4c858d-d4f8-4c91-8dfc-f2c9c2e04ddd",
   "metadata": {},
   "outputs": [],
   "source": [
    "ANS = \n",
    "    Same padding: Same padding is used when we need an output of the same shape as the input. \n",
    "    This value calculates and adds padding required to the input image to ensure the shape before and after.\n",
    "    If the values for the padding are zeroes then it can be called zero padding."
   ]
  },
  {
   "cell_type": "code",
   "execution_count": null,
   "id": "c12c4f90-875b-46ca-8481-91cbb6f6e415",
   "metadata": {},
   "outputs": [],
   "source": []
  },
  {
   "cell_type": "markdown",
   "id": "77d42746-31e1-45cb-8f97-ebfa7c8ddd6b",
   "metadata": {},
   "source": [
    "TOPIC: Exploring LeNet"
   ]
  },
  {
   "cell_type": "code",
   "execution_count": null,
   "id": "09f8813a-4503-424e-97c4-042ef9434f46",
   "metadata": {},
   "outputs": [],
   "source": [
    "1.Provide a brief overview of LeNet-5 architecture."
   ]
  },
  {
   "cell_type": "code",
   "execution_count": null,
   "id": "f11ede13-d314-4cf1-9339-bb9828a918ae",
   "metadata": {},
   "outputs": [],
   "source": [
    "ANS = \n",
    "    The Architecture of the Model.\n",
    "    The network has 5 layers with learnable parameters and hence named Lenet-5.\n",
    "    It has three sets of convolution layers with a combination of average pooling.\n",
    "    After the convolution and average pooling layers, we have two fully connected layers."
   ]
  },
  {
   "cell_type": "code",
   "execution_count": null,
   "id": "53df8536-069c-4897-ae4c-fa4fb7a98959",
   "metadata": {},
   "outputs": [],
   "source": []
  },
  {
   "cell_type": "code",
   "execution_count": null,
   "id": "f96013c1-2c9b-4a9f-b2a4-2519fb7269d9",
   "metadata": {},
   "outputs": [],
   "source": [
    "2.Describe the key components of LeNet-5 and their respective purpose."
   ]
  },
  {
   "cell_type": "code",
   "execution_count": null,
   "id": "5b6701f4-adb3-4408-8db3-ae94985acab6",
   "metadata": {},
   "outputs": [],
   "source": [
    "ANS = \n",
    "     1.Every convolutional layer includes three parts: convolution, pooling, and nonlinear activation functions\n",
    "\n",
    "     2.Using convolution to extract spatial features (Convolution was called receptive fields originally)\n",
    "\n",
    "     3.Subsampling average pooling layer\n",
    "\n",
    "    4.tanh activation function\n",
    "\n",
    "    5.Using MLP as the last classifier\n",
    "\n",
    "    6.Sparse connection between layers to reduce the complexity of computation"
   ]
  },
  {
   "cell_type": "code",
   "execution_count": null,
   "id": "09ee2525-acd8-42ab-b64e-72cf7cd04af5",
   "metadata": {},
   "outputs": [],
   "source": []
  },
  {
   "cell_type": "code",
   "execution_count": null,
   "id": "d6d92b55-7b79-4e6b-aadf-5f68c05c45d4",
   "metadata": {},
   "outputs": [],
   "source": [
    "3.Discuss the advantages and ;imitations of LeNet-5 in the context of image classification tasks."
   ]
  },
  {
   "cell_type": "code",
   "execution_count": null,
   "id": "74c14928-82bb-4311-b4e9-9b1abda9f0a6",
   "metadata": {},
   "outputs": [],
   "source": [
    "ANS = \n",
    "     The significant advantage of LeNet-5 is that it consists of a convolution layer with stride two \n",
    "     and an Average pooling layer with stride 1.\n",
    "     On the contrary, LeNet-5 is not applied widely; instead, AlexNet and VGG-16 Net are used as they consist \n",
    "     of deeper layers resulting in accurate classifications.\n",
    "        \n",
    "        \n",
    "    The main disadvantage of LeNet-5 is overfitting in some cases and no built-in mechanism to avoid this.\n",
    "    .. So, benchmark architecture was improved by adding dropout layers."
   ]
  },
  {
   "cell_type": "code",
   "execution_count": null,
   "id": "bbeb133d-9dfe-48cf-a21c-eef15150c467",
   "metadata": {},
   "outputs": [],
   "source": []
  },
  {
   "cell_type": "markdown",
   "id": "b0b9a148-3873-4a9b-8461-a848d1afc2fc",
   "metadata": {},
   "source": [
    "TOPIC: Analyzing AlexNet"
   ]
  },
  {
   "cell_type": "code",
   "execution_count": null,
   "id": "894610cc-8e76-4202-8d80-df2f4c05f14e",
   "metadata": {},
   "outputs": [],
   "source": [
    "1.Present an overview of the AlexNet architecture."
   ]
  },
  {
   "cell_type": "code",
   "execution_count": null,
   "id": "98804b5e-4081-4c6c-a453-256445ec6a32",
   "metadata": {},
   "outputs": [],
   "source": [
    "ANS = \n",
    "    AlexNet architecture consists of 5 convolutional layers, 3 max-pooling layers, 2 normalization layers,\n",
    "    2 fully connected layers, and 1 softmax layer. \n",
    "    2. Each convolutional layer consists of convolutional filters and a nonlinear activation function ReLU."
   ]
  },
  {
   "cell_type": "code",
   "execution_count": null,
   "id": "906b9ee4-90c5-40bc-b3f6-da33ffe85f19",
   "metadata": {},
   "outputs": [],
   "source": []
  },
  {
   "cell_type": "code",
   "execution_count": null,
   "id": "589fc315-758a-442a-a56b-a1dcc69a8c0b",
   "metadata": {},
   "outputs": [],
   "source": [
    "2.Explain the architural innovations introduced in AlexNet that contributed to its breakthrough performance."
   ]
  },
  {
   "cell_type": "code",
   "execution_count": null,
   "id": "5deed148-a625-4dd7-b3d2-b8a2ee2397b1",
   "metadata": {},
   "outputs": [],
   "source": [
    "ANS = \n",
    "      AlexNet architecture, with its innovative use of convolutional layers and rectified linear units (ReLU),\n",
    "    laid the foundation for modern deep learning models, advancing computer vision and pattern recognition applications.\n",
    "     AlexNet architecture consists of 5 convolutional layers, 3 max-pooling layers,\n",
    "    2 normalization layers, 2 fully connected layers, and 1 softmax layer. \n",
    "    2. Each convolutional layer consists of convolutional filters and a nonlinear activation function ReLU."
   ]
  },
  {
   "cell_type": "code",
   "execution_count": null,
   "id": "81bb5912-69c7-411a-b97d-c7e2442bcf92",
   "metadata": {},
   "outputs": [],
   "source": []
  },
  {
   "cell_type": "code",
   "execution_count": null,
   "id": "21413bf0-ffb4-4c62-b1f0-7aa097b4b6ed",
   "metadata": {},
   "outputs": [],
   "source": [
    "3.Discuss the role of convolution layers,pooling layers, and fully connected layers in AlexNet."
   ]
  },
  {
   "cell_type": "code",
   "execution_count": null,
   "id": "c2f5905e-bd4f-47bb-8823-5f9ab6c9c283",
   "metadata": {},
   "outputs": [],
   "source": [
    "ANS =\n",
    "    Layer Types.\n",
    "     1.Convolutional (CONV)\n",
    "    2. Activation (ACT or RELU, where we use the same or the actual activation function)\n",
    "    3. Pooling (POOL)\n",
    "    4. Fully connected (FC)\n",
    "    5. Batch normalization (BN)\n",
    "     6.Dropout (DO)\n",
    "        \n",
    "    Convolutional Layers\n",
    "    The CONV layer is the core building block of a Convolutional Neural Network.\n",
    "    The CONV layer parameters consist of a set of K learnable filters ,\n",
    "    where each filter has a width and a height, and are nearly always square. \n",
    "    These filters are small  but extend throughout the full depth of the volume."
   ]
  },
  {
   "cell_type": "code",
   "execution_count": null,
   "id": "ac4572f9-c911-46a5-ba44-ff1d5e557e51",
   "metadata": {},
   "outputs": [],
   "source": []
  },
  {
   "cell_type": "code",
   "execution_count": null,
   "id": "17651346-d7c5-43b2-b4b8-34563ab4d4d1",
   "metadata": {},
   "outputs": [],
   "source": []
  },
  {
   "cell_type": "code",
   "execution_count": null,
   "id": "c540ab8e-58da-4163-b070-395f3fe39d9f",
   "metadata": {},
   "outputs": [],
   "source": []
  }
 ],
 "metadata": {
  "kernelspec": {
   "display_name": "Python 3 (ipykernel)",
   "language": "python",
   "name": "python3"
  },
  "language_info": {
   "codemirror_mode": {
    "name": "ipython",
    "version": 3
   },
   "file_extension": ".py",
   "mimetype": "text/x-python",
   "name": "python",
   "nbconvert_exporter": "python",
   "pygments_lexer": "ipython3",
   "version": "3.10.8"
  }
 },
 "nbformat": 4,
 "nbformat_minor": 5
}
